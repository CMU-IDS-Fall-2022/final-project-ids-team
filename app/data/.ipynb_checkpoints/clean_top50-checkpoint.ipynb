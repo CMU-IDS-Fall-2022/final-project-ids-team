{
 "cells": [
  {
   "cell_type": "code",
   "execution_count": 1,
   "id": "e8a8b074",
   "metadata": {},
   "outputs": [],
   "source": [
    "import pandas as pd"
   ]
  },
  {
   "cell_type": "code",
   "execution_count": 4,
   "id": "ad5ad342",
   "metadata": {},
   "outputs": [],
   "source": []
  },
  {
   "cell_type": "code",
   "execution_count": 35,
   "id": "3fec6551",
   "metadata": {},
   "outputs": [
    {
     "name": "stdout",
     "output_type": "stream",
     "text": [
      "{'dance pop': 327, 'pop': 60, 'canadian pop': 34, 'barbadian pop': 15, 'boy band': 15, 'electropop': 13, 'british soul': 11, 'big room': 10, 'neo mellow': 9, 'canadian contemporary r&b': 9, 'art pop': 8, 'hip pop': 6, 'complextro': 6, 'australian dance': 6, 'atl hip hop': 5, 'australian pop': 5, 'edm': 5, 'permanent wave': 4, 'hip hop': 4, 'latin': 4, 'colombian pop': 3, 'tropical house': 3, 'detroit hip hop': 2, 'indie pop': 2, 'acoustic pop': 2, 'baroque pop': 2, 'electro': 2, 'canadian hip hop': 2, 'candy pop': 2, 'folk-pop': 2, 'belgian edm': 2, 'electronic trap': 2, 'downtempo': 2, 'brostep': 2, 'escape room': 2, 'chicago rap': 1, 'celtic rock': 1, 'alaska indie': 1, 'metropopolis': 1, 'house': 1, 'australian hip hop': 1, 'hollywood': 1, 'irish singer-songwriter': 1, 'french indie pop': 1, 'danish pop': 1, 'canadian latin': 1, 'electro house': 1, 'contemporary country': 1, 'moroccan pop': 1, 'alternative r&b': 1}\n"
     ]
    }
   ],
   "source": [
    "df = pd.read_csv(\"top10s.csv\", encoding='latin-1')\n",
    "\n",
    "\n",
    "\n",
    "\n",
    "changer = {}\n",
    "changer['detroit hip hop'] = 'hip hop'\n",
    "# changer['canadian pop'] = 'pop'\n",
    "# changer['candy pop'] = 'pop'\n",
    "# changer['barbadian pop'] = 'pop'\n",
    "# changer['baroque pop'] = 'pop'\n",
    "# changer['colombian pop'] = 'pop'\n",
    "# changer['danish pop'] = 'pop'\n",
    "# changer['acoustic pop'] = 'pop'\n",
    "# changer['moroccan pop'] = 'pop'\n",
    "# changer['art pop'] = 'pop'\n",
    "# changer['indie pop'] = 'pop'\n",
    "# changer['australian pop'] = 'pop'\n",
    "changer['atl hip hop'] = 'hip hop'\n",
    "changer['hip pop'] = 'hip hop'\n",
    "changer['canadian hip hop'] = 'hip hop'\n",
    "\n",
    "\n",
    "def change_genre(x):\n",
    "    if x in changer:\n",
    "        return changer[x]\n",
    "    else: \n",
    "        return x\n",
    "    \n",
    "df[\"top genre\"] = df[\"top genre\"].apply(lambda x: change_genre(x))\n",
    "\n",
    "a = df[\"top genre\"].tolist()\n",
    "\n",
    "dic = {}\n",
    "for it in a:\n",
    "    if it not in dic:\n",
    "        dic[it] = 0\n",
    "    dic[it] += 1\n",
    "    \n",
    "\n",
    "dic = {k: v for k, v in sorted(dic.items(), key=lambda item: item[1], reverse = True)}\n",
    "print(dic)"
   ]
  }
 ],
 "metadata": {
  "kernelspec": {
   "display_name": "Python 3",
   "language": "python",
   "name": "python3"
  },
  "language_info": {
   "codemirror_mode": {
    "name": "ipython",
    "version": 3
   },
   "file_extension": ".py",
   "mimetype": "text/x-python",
   "name": "python",
   "nbconvert_exporter": "python",
   "pygments_lexer": "ipython3",
   "version": "3.9.5"
  }
 },
 "nbformat": 4,
 "nbformat_minor": 5
}
